{
 "cells": [
  {
   "cell_type": "markdown",
   "id": "207b1078",
   "metadata": {},
   "source": [
    "Before you turn this problem in, make sure everything runs as expected. First, **restart the kernel** (in the menubar, select Kernel$\\rightarrow$Restart) and then **run all cells** (in the menubar, select Cell$\\rightarrow$Run All).\n",
    "\n",
    "Make sure you fill in any place that says `YOUR CODE HERE` or \"YOUR ANSWER HERE\", as well as your name and collaborators below:"
   ]
  },
  {
   "cell_type": "code",
   "execution_count": null,
   "id": "4083bf53",
   "metadata": {},
   "outputs": [],
   "source": [
    "NAME = \"\"\n",
    "COLLABORATORS = \"\""
   ]
  },
  {
   "cell_type": "markdown",
   "id": "11b90fe0",
   "metadata": {},
   "source": [
    "---"
   ]
  },
  {
   "cell_type": "markdown",
   "id": "9249ed90",
   "metadata": {},
   "source": [
    "# Abschlussaufgaben\n",
    "\n",
    "\n",
    "## Aufgabe\n",
    "\n",
    "Schau dir die nachfolgende Funktionen `get_divisibles(numbers, factor)` an und beschreibe, was sie bewirken wird. Überprüfe Deine Vermutung anschliessend mit der Ausführung der Zelle. Der `%` Operator ist der sogenannte Modulo Operator und er gibt den Restwert zurück, der bei einer Division entsteht. Beispiel: `10 % 3` ergibt `1`. Also 10 geteilt durch 3 ergibt den Rest 1."
   ]
  },
  {
   "cell_type": "code",
   "execution_count": null,
   "id": "f6d30827",
   "metadata": {},
   "outputs": [],
   "source": [
    "def get_divisibles(numbers, factor):\n",
    "    return [x for x in numbers if x % factor == 0]\n",
    "\n",
    "print(get_divisibles([1, 3, 6, 8, 11, 14, 18, 21, 321, 342], 2))\n",
    "print(get_divisibles([4, 5, 8, 19, 20, 23, 25, 30, 31, 39, 40], 5))"
   ]
  },
  {
   "cell_type": "markdown",
   "id": "c567cd05",
   "metadata": {
    "deletable": false,
    "nbgrader": {
     "cell_type": "markdown",
     "checksum": "7313a9e23d587f975a430532742e262e",
     "grade": true,
     "grade_id": "cell-7f469bd68d35ac6d",
     "locked": false,
     "points": 0,
     "schema_version": 3,
     "solution": true,
     "task": false
    }
   },
   "source": [
    "YOUR ANSWER HERE"
   ]
  },
  {
   "cell_type": "markdown",
   "id": "7b536c6f",
   "metadata": {},
   "source": [
    "## Aufgabe\n",
    "\n",
    "Schau dir die nachfolgende Funktionen `say_hello(hello_dict)` an und beschreibe, was sie bewirken wird. Überprüfe Deine Vermutung anschliessend mit der Ausführung der Zelle."
   ]
  },
  {
   "cell_type": "code",
   "execution_count": null,
   "id": "4d4eca4c",
   "metadata": {},
   "outputs": [],
   "source": [
    "my_dict = {\n",
    "    \"Deutsch\": \"Guten Tag\",\n",
    "    \"Englisch\": \"Hello\",\n",
    "    \"Französisch\": \"Bonjour\",\n",
    "    \"Italienisch\": \"Buongiorno\",\n",
    "    \"Rätoromanisch\": \"Allegra\"\n",
    "}\n",
    "\n",
    "def say_hello(hello_dict):\n",
    "    result = \"\"\n",
    "    for lang, hello in hello_dict.items():\n",
    "        result += \"auf \" + lang + \" sagen wir \" + hello + \", \"\n",
    "    return result\n",
    "\n",
    "print(say_hello(my_dict))"
   ]
  },
  {
   "cell_type": "markdown",
   "id": "4d1184b3",
   "metadata": {
    "deletable": false,
    "nbgrader": {
     "cell_type": "markdown",
     "checksum": "47a8a534860241e254f5249d62f1fd01",
     "grade": true,
     "grade_id": "cell-c058c60431282020",
     "locked": false,
     "points": 0,
     "schema_version": 3,
     "solution": true,
     "task": false
    }
   },
   "source": [
    "YOUR ANSWER HERE"
   ]
  },
  {
   "cell_type": "markdown",
   "id": "730c62a3",
   "metadata": {},
   "source": [
    "## Aufgabe\n",
    "\n",
    "Definiere nun eine eigene Funktion `nth_smallest(numbers, nth)` so, dass sie folgendes bewirkt:\n",
    "* sie soll die nth-kleinste Nummer aus der Liste numbers zurückgeben\n",
    "* beachte, dass die Zahlen in numbers mehrfach vorkommen können\n",
    "* sollte keine Lösung existieren (bspw. 8-kleinste Nummer aus 5 Zahlen), soll None zurückgegeben werden\n",
    "\n",
    "Beispiel: \n",
    "* `print(nth_smallest([4, 5, 7, 3, 1, 1], 1))` soll eine 1 ausgeben \n",
    "* `print(nth_smallest([4, 5, 7, 3, 1, 1, 3], 2))` soll eine 3 ausgeben\n",
    "* `print(nth_smallest([4, 4, 4, 4, 5], 3))` soll None ausgeben.\n",
    "\n",
    "\n"
   ]
  },
  {
   "cell_type": "code",
   "execution_count": null,
   "id": "46161e95",
   "metadata": {
    "deletable": false,
    "nbgrader": {
     "cell_type": "code",
     "checksum": "bb0401e46976d341ce39cebb0dc8b3a1",
     "grade": true,
     "grade_id": "cell-7dc2ba4879cd0d25",
     "locked": false,
     "points": 0,
     "schema_version": 3,
     "solution": true,
     "task": false
    }
   },
   "outputs": [],
   "source": [
    "def nth_smallest(numbers, nth):\n",
    "\n",
    "    # YOUR CODE HERE\n",
    "    raise NotImplementedError()\n",
    "\n",
    "print(nth_smallest([4, 5, 7, 3, 1, 1], 1))\n",
    "print(nth_smallest([4, 5, 7, 3, 1, 1, 3], 2))\n",
    "print(nth_smallest([4, 4, 4, 4, 5], 3))"
   ]
  },
  {
   "cell_type": "markdown",
   "id": "b242edca",
   "metadata": {},
   "source": [
    "## Aufgabe\n",
    "\n",
    "Definiere nun `isbn_dict(keys, values)` so dass aus den zwei vorgegebenen Listen mit Hilfe der `zip()` Funktion und einer Dictionary Comprehension ein Dictionary erzeugt wird, das alle keys und values beinhaltet, für die im entsprechenden key der String \"ISBN\" vorkommt. Dieses Dictionary soll dann zurückgegeben werden. Das erwartete Resultat von `print(isbn_dict(keys, values))` ist also: `{'ISBN-10': '3-83627-926-6', 'ISBN-13': '978-3-83627-926-0'}`."
   ]
  },
  {
   "cell_type": "code",
   "execution_count": null,
   "id": "7c32fb45",
   "metadata": {
    "deletable": false,
    "nbgrader": {
     "cell_type": "code",
     "checksum": "8621694a0058b74fb2351b27e987a36c",
     "grade": true,
     "grade_id": "cell-266c871b1cee671f",
     "locked": false,
     "points": 0,
     "schema_version": 3,
     "solution": true,
     "task": false
    }
   },
   "outputs": [],
   "source": [
    "keys = [\"ISBN-10\", \"ISBN-13\", \"Auflage\", \"Herausgeber\", \"Erscheinungsjahr\", \"Sprache\", \"Seitenzahl\"]\n",
    "values = [\"3-83627-926-6\", \"978-3-83627-926-0\", \"6.\", \"Rheinwerk Computing\", \"2020\", \"Deutsch\", \"1079\"]\n",
    "\n",
    "def isbn_dict(keys, values):\n",
    "\n",
    "    # YOUR CODE HERE\n",
    "    raise NotImplementedError()\n",
    "\n",
    "print(isbn_dict(keys, values))"
   ]
  },
  {
   "cell_type": "code",
   "execution_count": null,
   "id": "d9cd2c43",
   "metadata": {},
   "outputs": [],
   "source": []
  }
 ],
 "metadata": {
  "kernelspec": {
   "display_name": "Python 3",
   "language": "python",
   "name": "python3"
  },
  "language_info": {
   "codemirror_mode": {
    "name": "ipython",
    "version": 3
   },
   "file_extension": ".py",
   "mimetype": "text/x-python",
   "name": "python",
   "nbconvert_exporter": "python",
   "pygments_lexer": "ipython3",
   "version": "3.9.7"
  }
 },
 "nbformat": 4,
 "nbformat_minor": 5
}
