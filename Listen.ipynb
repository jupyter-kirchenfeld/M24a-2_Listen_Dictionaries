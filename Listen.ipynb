{
 "cells": [
  {
   "cell_type": "markdown",
   "id": "32cd3405",
   "metadata": {},
   "source": [
    "Before you turn this problem in, make sure everything runs as expected. First, **restart the kernel** (in the menubar, select Kernel$\\rightarrow$Restart) and then **run all cells** (in the menubar, select Cell$\\rightarrow$Run All).\n",
    "\n",
    "Make sure you fill in any place that says `YOUR CODE HERE` or \"YOUR ANSWER HERE\", as well as your name and collaborators below:"
   ]
  },
  {
   "cell_type": "code",
   "execution_count": null,
   "id": "141604a1",
   "metadata": {},
   "outputs": [],
   "source": [
    "NAME = \"\"\n",
    "COLLABORATORS = \"\""
   ]
  },
  {
   "cell_type": "markdown",
   "id": "ab9f25ab",
   "metadata": {},
   "source": [
    "---"
   ]
  },
  {
   "cell_type": "markdown",
   "id": "604aa9b5",
   "metadata": {},
   "source": [
    "# Listen\n",
    "\n",
    "In Python sind **Listen** (Lists) ein eigener Datentyp. Sie werden verwendet, um verschiedene Elemente in einer einzelnen Variable zu speichern.\n",
    "\n",
    "## Wieso sind Listen nützlich?\n",
    "\n",
    "Nimm an, dass in einem Laden der mittlere Preis aller Produkte berechnet werden soll. Die fünf verkauften Produkte seien durchnummeriert von 0 bis 4. Wenn man keine Listen kennen würde, müsste man das Problem folgendermassen anpacken:\n"
   ]
  },
  {
   "cell_type": "code",
   "execution_count": null,
   "id": "94ad2a37",
   "metadata": {},
   "outputs": [],
   "source": [
    "produkt0 = 10.20\n",
    "produkt1 = 12\n",
    "produkt2 = 5.50\n",
    "produkt3 = 8\n",
    "produkt4 = 8.50\n",
    "\n",
    "mittlerer_preis = (produkt0 + produkt1 + produkt2 + produkt3 + produkt4) / 5\n",
    "\n",
    "print(mittlerer_preis)"
   ]
  },
  {
   "cell_type": "markdown",
   "id": "e73ac5ee-a086-4117-a561-c6f2c0dd6041",
   "metadata": {},
   "source": [
    "Dieses Vorgehen ist äusserst ineffizient und fehleranfällig. Viel einfacher geht es mit Listen:"
   ]
  },
  {
   "cell_type": "code",
   "execution_count": null,
   "id": "ee7c4a80-1828-49c4-b384-bfd902640860",
   "metadata": {},
   "outputs": [],
   "source": [
    "produkt_preise = [10.20, 12, 5.50, 8, 5.50]\n",
    "\n",
    "mittlerer_preis = sum(produkt_preise) / len(produkt_preise)\n",
    "\n",
    "print(mittlerer_preis)"
   ]
  },
  {
   "cell_type": "markdown",
   "id": "bca802dc-8ca5-4cd2-bcf1-8cb7f3094509",
   "metadata": {},
   "source": [
    "Es gibt eine Vielzahl von integrierten Funktionen, die auf Listen angewendet werden können, wie bspw. `sum()` berechnet die Summe aller Elemente in der Liste und `len()` ergibt die Anzahl von Elemente in einer Liste."
   ]
  },
  {
   "cell_type": "markdown",
   "id": "c4c7c4ae",
   "metadata": {},
   "source": [
    "### Aufgabe\n",
    "\n",
    "Hier sind die Temperaturen pro Tag in einzelne Variablen gespeichert. Verwandle diese in eine Liste und berechne mittels `len()` und `sum()` die Durchschnittstemperatur der letzten Tage."
   ]
  },
  {
   "cell_type": "code",
   "execution_count": null,
   "id": "3e41f9fd",
   "metadata": {
    "deletable": false,
    "nbgrader": {
     "cell_type": "code",
     "checksum": "c8b1d2575cb79731069dc4291a1e9870",
     "grade": true,
     "grade_id": "cell-8bed415303de30cd",
     "locked": false,
     "points": 0,
     "schema_version": 3,
     "solution": true,
     "task": false
    }
   },
   "outputs": [],
   "source": [
    "montag = 20.5\n",
    "dienstag = 23.5\n",
    "mittwoch = 22.5\n",
    "donnerstag = 25.3\n",
    "freitag = 22.1\n",
    "\n",
    "# YOUR CODE HERE\n",
    "raise NotImplementedError()"
   ]
  },
  {
   "cell_type": "markdown",
   "id": "c3ea81a8-35a1-4cbb-b892-216f953d48e7",
   "metadata": {},
   "source": [
    "## Eigenschaften von Listen\n",
    "\n",
    "Listen werden mit Hilfe von eckigen Klammern `[]` erstellt, die einzelnen Elemente der Liste werden durch Kommas `,` getrennt. Listen gehören zu den sogenannten Python **Data Collections**. Listen sind **sortiert** (die Reihenfolge der Elemente spielt also eine Rolle) und erlauben auch **duplizierte Werte** (im Beispiel oben können also mehrere Produkte den gleichen Preis erhalten).\n",
    "\n",
    "Auf die einzelnen Elemente einer Liste kann mit Hilfe eines Indexes zugegriffen werden. Der Index beginnt in Python bei `[0]`. Man kann auch negative Indizes verwenden, dann wird vom Ende her gezählt (wobei es mathematisch korrekt kein `-0` gibt, sondern das letzte Element die `-1` ist.)"
   ]
  },
  {
   "cell_type": "code",
   "execution_count": null,
   "id": "8a178d25-51d6-4cdd-9ef4-6f9dcfea0a38",
   "metadata": {},
   "outputs": [],
   "source": [
    "print(produkt_preise[0])\n",
    "print(produkt_preise[1])\n",
    "print(produkt_preise[-2])\n"
   ]
  },
  {
   "cell_type": "markdown",
   "id": "f9daca19-1852-49e7-bb74-2335a6124deb",
   "metadata": {},
   "source": [
    "Wenn auf einen nicht existierenden Index einer Liste zugegriffen wird (dieser Fehler passiert einem erstaunlich häufig), wird eine Fehlermeldung (\"list index out of range\") erzeugt:"
   ]
  },
  {
   "cell_type": "code",
   "execution_count": null,
   "id": "5c6c0e48-ee9a-4158-a4b0-335a9908f447",
   "metadata": {
    "tags": [
     "raises-exception"
    ]
   },
   "outputs": [],
   "source": [
    "print(produkt_preise[5])"
   ]
  },
  {
   "cell_type": "markdown",
   "id": "ea861a5c-4e30-4110-81d1-244e1d0d18ef",
   "metadata": {},
   "source": [
    "Man kann auch einen Range von Indizes angeben beim Zugriff auf Listen, also gleichzeitig auf mehr als ein Element zugreifen. Das ist insbesondere nützlich, wenn man neue Listen aus einem Teilbereich bestehender Listen bilden möchte. Diesen Range bildet man in eckigen Klammern mit einem Startwert, der mit `:` von einem Schlusswert abgetrennt wird:"
   ]
  },
  {
   "cell_type": "code",
   "execution_count": null,
   "id": "8e9173eb-31e8-4754-ba61-230cacc742ef",
   "metadata": {},
   "outputs": [],
   "source": [
    "laender = [\"Deutschland\", \"Portugal\", \"Russland\", \"Thailand\", \"Brasilien\", \"Moldawien\"]\n",
    "\n",
    "laender_auswahl = laender[1:3]\n",
    "\n",
    "print(laender_auswahl)"
   ]
  },
  {
   "cell_type": "markdown",
   "id": "81fba685-ce8f-436e-a917-b97a99d231d6",
   "metadata": {},
   "source": [
    "Wenn man vor oder nach dem `:` keinen Wert angibt, heisst das einfach, von Beginn oder bis zum Ende:"
   ]
  },
  {
   "cell_type": "code",
   "execution_count": null,
   "id": "8963966e-bf78-40aa-b553-252dbbca415b",
   "metadata": {},
   "outputs": [],
   "source": [
    "laender_auswahl = laender[3:]\n",
    "\n",
    "print(laender_auswahl)"
   ]
  },
  {
   "cell_type": "markdown",
   "id": "67e44566-ded2-441c-92f0-c2d4bf04ff2a",
   "metadata": {},
   "source": [
    "Um die Anzahl Elemente einer Liste zu bestimmen, kann man wie oben erwähnt die Funktion `len()` verwenden:"
   ]
  },
  {
   "cell_type": "code",
   "execution_count": null,
   "id": "55ef6877-9986-476d-bdd6-f892b51f3eb0",
   "metadata": {},
   "outputs": [],
   "source": [
    "print(len(produkt_preise))"
   ]
  },
  {
   "cell_type": "markdown",
   "id": "716a622d-a78b-4e73-8952-8f2f4cbb2064",
   "metadata": {},
   "source": [
    "Listen können alle verschiedenen Datentypen speichern, auch verschiedene Typen innerhalb der gleichen Liste sind möglich und man kann innerhalb einer Liste auch weitere Listen speichern (**verschachtelte Listen**):"
   ]
  },
  {
   "cell_type": "code",
   "execution_count": null,
   "id": "b75b7acc-c26f-4ee3-896e-c78d45e9569c",
   "metadata": {},
   "outputs": [],
   "source": [
    "gemischte_liste = [\"Hallo\", 42, True, [1, [\"Hi\", False, 3.1415], \"Ciao\"]]"
   ]
  },
  {
   "cell_type": "markdown",
   "id": "8e9829d8",
   "metadata": {
    "tags": []
   },
   "source": [
    "### Aufgabe \n",
    "\n",
    "Wie kann man wohl per Index im obigen Beispiel der verschachtelten Liste auf den String `\"Hi\"` zugreifen? Erstelle dazu ein `print()` Befehl mit `gemischte_liste`. Tipp: Suche im Internet unter den Stichworten *python nested lists*..."
   ]
  },
  {
   "cell_type": "code",
   "execution_count": null,
   "id": "8fc99c5c-966d-4cfd-a9bb-e90d195b92d4",
   "metadata": {
    "deletable": false,
    "nbgrader": {
     "cell_type": "code",
     "checksum": "aeccd8af232f29bd65a9758243ed2570",
     "grade": false,
     "grade_id": "cell-255d1a5856aecd5c",
     "locked": false,
     "schema_version": 3,
     "solution": true,
     "task": false
    }
   },
   "outputs": [],
   "source": [
    "# YOUR CODE HERE\n",
    "raise NotImplementedError()"
   ]
  },
  {
   "cell_type": "markdown",
   "id": "f789b73d-27e5-47e0-99eb-c403a8dac455",
   "metadata": {},
   "source": [
    "Wenn man prüfen möchte, ob ein Element in einer Liste vorkommt, kann man das Schlüsselwort `in` verwenden:"
   ]
  },
  {
   "cell_type": "code",
   "execution_count": null,
   "id": "91db0767-8235-473b-833c-26f28723505c",
   "metadata": {},
   "outputs": [],
   "source": [
    "meine_liste = [\"SBB\", \"BLS\", \"RBS\", \"SOB\", \"RhB\"]\n",
    "\n",
    "if \"RBS\" in meine_liste:\n",
    "    print(\"Diese Liste beinhaltet den Regionalverkehr Bern-Solothurn\")"
   ]
  },
  {
   "cell_type": "markdown",
   "id": "123befdc",
   "metadata": {},
   "source": [
    "### Aufgabe\n",
    "\n",
    "Überprüfe ob in der nachfolgenden Liste SBB vorkommt und falls nein gib folgenden Text auf: `\"Diese Liste beinhaltet die SBB nicht\"`"
   ]
  },
  {
   "cell_type": "code",
   "execution_count": null,
   "id": "236c60cc",
   "metadata": {
    "deletable": false,
    "nbgrader": {
     "cell_type": "code",
     "checksum": "d28e9122dc79858d850a051d0241b449",
     "grade": true,
     "grade_id": "cell-e2572c6d992c5da9",
     "locked": false,
     "points": 0,
     "schema_version": 3,
     "solution": true,
     "task": false
    }
   },
   "outputs": [],
   "source": [
    "# YOUR CODE HERE\n",
    "raise NotImplementedError()"
   ]
  },
  {
   "cell_type": "markdown",
   "id": "65a260f7-9a30-4b9f-a7bd-feda1fc520e0",
   "metadata": {},
   "source": [
    "## Listen sortieren\n",
    "\n",
    "Es gibt zwei verschiedene wichtige Funktionen für das Sortieren von Listen: Einerseits `sort()`, welche eine Methode der Klasse Liste ist und eine bestehende Liste sortiert (man spricht auch von einer \"in place modification\") und andererseits `sorted()`, welche als Argument eine Liste benötigt und eine sortierte Liste zurückgibt, die dann bspw. in einer neuen Liste gespeichert werden kann. Beide Funktionen kennen auch die Möglichkeit, umgekehrt zu sortieren."
   ]
  },
  {
   "cell_type": "code",
   "execution_count": null,
   "id": "388ab8f8-8710-49a5-9255-5cfdc52f42e9",
   "metadata": {},
   "outputs": [],
   "source": [
    "numbers = [8, 2, 9, 12, 1, -2, 0, 123, 211]\n",
    "numbers.sort() # in place modification\n",
    "print(numbers)\n",
    "\n",
    "unordered_names = [\"Oliver\", \"Xandia\", \"Aishwarya\", \"Kishor\", \"Juan\", \"Adelheid\"]\n",
    "ordered_names = sorted(unordered_names, reverse = True)\n",
    "print(ordered_names)"
   ]
  },
  {
   "cell_type": "markdown",
   "id": "7f2c1e38-6bcb-40e1-af8b-d993f1210b7d",
   "metadata": {},
   "source": [
    "## Listen erweitern\n",
    "\n",
    "Die Erweiterung von Listen mit neuen Elementen kann mit `append()` und `insert()` geschehen. Die erstere Funktion fügt das Element am Schluss der Liste ein und die letztere erlaubt es, einen Index (Achtung: Index startet bei 0) anzugeben, wo das Element eingefügt werden soll:"
   ]
  },
  {
   "cell_type": "code",
   "execution_count": null,
   "id": "ab304214-b748-4a01-98d5-ddffadecf0cb",
   "metadata": {},
   "outputs": [],
   "source": [
    "fruechte = [\"Apfel\", \"Traube\", \"Kiwi\"]\n",
    "\n",
    "fruechte.append(\"Banane\")\n",
    "\n",
    "print(fruechte)"
   ]
  },
  {
   "cell_type": "code",
   "execution_count": null,
   "id": "cf661ff1-6f95-4462-87b2-a39721027d4b",
   "metadata": {},
   "outputs": [],
   "source": [
    "fruechte.insert(1, \"Papaya\")\n",
    "\n",
    "print(fruechte)"
   ]
  },
  {
   "cell_type": "markdown",
   "id": "561ed328-9475-4d05-8eb5-48dc227b5b27",
   "metadata": {},
   "source": [
    "Hier sehen wir ein wichtiges Konzept der Objektorientierung von Python, die beiden **Methoden** `append()` und `insert()` werden direkt auf das Listenobjekt angewandt, deshalb werden sie mit dem Syntax `listenname.methode()` aufgerufen. Damit ist auch sofort klar, auf welche Liste sie angewandt werden sollen. Als Methoden werden übrigens Funktionen bezeichnet, die zu einem bestimmten Objekt(typ) gehören."
   ]
  },
  {
   "cell_type": "markdown",
   "id": "0c80a6c7-a5d3-4dba-a343-7337d720e633",
   "metadata": {},
   "source": [
    "## Listen iterieren\n",
    "\n",
    "Häufig ist man damit konfrontiert, dass man auf alle Elemente einer Liste eine bestimmte Operation durchführen möchte. Man möchte also die Liste durchiterieren. Dazu kennen wir mit der For Schleife bereits das nötige Hilfsmittel (weil Listen sind auch eine Sequence und damit per se tauglich für eine For Schleife):"
   ]
  },
  {
   "cell_type": "code",
   "execution_count": null,
   "id": "0460de49-3f67-42c8-a2ab-cec63d82d813",
   "metadata": {},
   "outputs": [],
   "source": [
    "namen = [\"Shankar\", \"Simon\", \"Greta\", \"Ibrahim\", \"Aleyna\", \"Kunigunde\"]\n",
    "\n",
    "for person in namen:\n",
    "    print(\"Hallo \" + person + \", willkommen im Grundkurs Programmieren!\")"
   ]
  },
  {
   "cell_type": "markdown",
   "id": "fe9162cf-2592-4bdf-ad13-03e960868d7f",
   "metadata": {},
   "source": [
    "### Aufgabe\n",
    "\n",
    "Gib per `print()` Befehl und mit Hilfe einer For Schleife für alle Elemente der nachfolgenden Liste jeweils die Differenz zur Zahl 100 an.\n"
   ]
  },
  {
   "cell_type": "code",
   "execution_count": null,
   "id": "49f26fa9-101b-4754-9b81-5cd8d3e6f408",
   "metadata": {
    "deletable": false,
    "nbgrader": {
     "cell_type": "code",
     "checksum": "08616481c592bdbf5472719877729086",
     "grade": true,
     "grade_id": "cell-835581d7944f7ddb",
     "locked": false,
     "points": 0,
     "schema_version": 3,
     "solution": true,
     "task": false
    }
   },
   "outputs": [],
   "source": [
    "zahlen = [42, 3.1415, 45, 100, -12, 88, 99.9999]\n",
    "# YOUR CODE HERE\n",
    "raise NotImplementedError()"
   ]
  },
  {
   "cell_type": "markdown",
   "id": "6b1d7ccc-da19-4df4-84bc-d05d5f84d7a5",
   "metadata": {},
   "source": [
    "## List Comprehensions\n",
    "\n",
    "Sogenannte List Comprehensions sind nützlich, wenn man neue Listen basierend auf bestehenden Listen erzeugen möchte, aber nur bestimmte Einträge der bestehenden Liste übernehmen möchte. Sie stellen einen kompakteren Syntax zur Verfügung, um häufige Probleme zu lösen. Nachfolgend das gleiche Problem einmal mit und einmal ohne List Comprehension gelöst. Aus einer Liste mit Politikerinnen sollen nur Ständerätinnen in einer neuen Liste gespeichert werden (diese haben den Präfix \"SR_\"):"
   ]
  },
  {
   "cell_type": "code",
   "execution_count": null,
   "id": "a12f5e15-74b1-4b41-a6db-805867885940",
   "metadata": {},
   "outputs": [],
   "source": [
    "politikerinnen = [\"BR_Amherd\", \"BR_Sommaruga\", \"BR_Keller-Sutter\", \"SR_Baume-Schneider\", \n",
    "                  \"SR_Carobbio_Guscetti\", \"SR_Gapany\", \"NR_Amaudruz\", \"NR_Arslan\", \"NR_Batertscher\"]\n",
    "\n",
    "# ohne List Comprehension\n",
    "staenderaetinnen = []\n",
    "\n",
    "for frau in politikerinnen:\n",
    "    if \"SR\" in frau:\n",
    "        staenderaetinnen.append(frau)\n",
    "        \n",
    "print(staenderaetinnen)"
   ]
  },
  {
   "cell_type": "code",
   "execution_count": null,
   "id": "db58d00b-e869-4480-b427-a7458316af17",
   "metadata": {},
   "outputs": [],
   "source": [
    "# mit List Comprehension\n",
    "staenderaetinnen = [frau for frau in politikerinnen if \"SR\" in frau]\n",
    "\n",
    "print(staenderaetinnen)"
   ]
  },
  {
   "cell_type": "markdown",
   "id": "d8bc6ce2-f886-4dc4-a941-01e3fb3af896",
   "metadata": {},
   "source": [
    "Hier sehen wir ein etwas anderes Beispiel des `in` Schlüsselwortes. Man kann mit `in` nicht nur überprüfen, ob ein bestimmtes Element in einer Liste vorkommt, sondern auch ob ein sogenannter **Substring** innerhalb eines Strings vorkommt. Ganz präzise ist es mit `in` möglich nach einem Wert in einer Sequence zu suchen."
   ]
  },
  {
   "cell_type": "markdown",
   "id": "2c7bef52-65a6-4394-bdb6-4c31e3fefff7",
   "metadata": {},
   "source": [
    "Die allgemeine Form der List Comprehension lautet: `neue_liste = [expression for item in iterable if condition == True]`. Der mittlere Teil `for item in iterable` kennen wir dabei aus der For Schleife, es wird also jeweils ein Element unter der Variable item aus iterable verfügbar gemacht. Der Teil mit der Bedingung `if condition == True` kennen wir aus der If Verzweigung. Es werden also nur diejenigen Elemente in die neue Liste übernommen, die die Bedingung erfüllen. Der erste Teil mit `expression` erlaubt es, weitere Manipulationen an denjenigen Elementen durchzuführen, die in die neue Liste übernommen wurden. Wenn keine weitere Manipulation nötig ist (wie im Beispiel oben), dann wird einfach nochmals `item` eingefügt."
   ]
  },
  {
   "cell_type": "markdown",
   "id": "ebe16d36-9bee-4885-affd-9aadd1051c55",
   "metadata": {},
   "source": [
    "### Aufgabe\n",
    "\n",
    "Erstelle eine Liste mit Bundesrätinnen per List Comprehension aus der Liste der `politikerinnen` von oben. Konstruiere die List Comprehension so, dass gleichzeitig der Präfix \"BR_\" vom Namen entefernt wird, die entstehende Liste soll also so aussehen: `bundesraetinnen = [\"Amherd\", \"Sommaruga\", \"Keller-Sutter\"]`. Tipp: Nutze dazu dein Wissen über Mehrfachauswahl mit dem Konstrukt `[:]`, welches auch bei einem String funktioniert, um nur Teile eines Strings auszuwählen. Dieses Konstrukt kann innerhalb der Expression angewandt werden."
   ]
  },
  {
   "cell_type": "code",
   "execution_count": null,
   "id": "712a7d29-2a87-4647-ab3a-c47fccba437e",
   "metadata": {
    "deletable": false,
    "nbgrader": {
     "cell_type": "code",
     "checksum": "f1745bd9570a2e3db1f31bc3191f1f19",
     "grade": true,
     "grade_id": "cell-cd2e559f8518918b",
     "locked": false,
     "points": 0,
     "schema_version": 3,
     "solution": true,
     "task": false
    }
   },
   "outputs": [],
   "source": [
    "# YOUR CODE HERE\n",
    "raise NotImplementedError()"
   ]
  },
  {
   "cell_type": "markdown",
   "id": "4b6be506-18fc-4824-b101-f834857f4f1b",
   "metadata": {},
   "source": [
    "Weitere Infos zu Listen, wie bspw. sortieren von Listen, kopieren von Listen, löschen von Listenelementen etc. findest du bei <a href=\"https://www.w3schools.com/python/python_lists.asp\">w3schools.com</a>"
   ]
  }
 ],
 "metadata": {
  "interpreter": {
   "hash": "1f249ec925ce4e150f1f00585c0a724a833d5f2a7ba7da4c93b858ce16dfa983"
  },
  "kernelspec": {
   "display_name": "Python 3",
   "language": "python",
   "name": "python3"
  },
  "language_info": {
   "codemirror_mode": {
    "name": "ipython",
    "version": 3
   },
   "file_extension": ".py",
   "mimetype": "text/x-python",
   "name": "python",
   "nbconvert_exporter": "python",
   "pygments_lexer": "ipython3",
   "version": "3.9.7"
  },
  "toc-autonumbering": true,
  "toc-showcode": false,
  "toc-showmarkdowntxt": false,
  "toc-showtags": false
 },
 "nbformat": 4,
 "nbformat_minor": 5
}
