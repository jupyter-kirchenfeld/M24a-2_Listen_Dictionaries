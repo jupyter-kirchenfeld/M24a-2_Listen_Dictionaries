{
 "cells": [
  {
   "cell_type": "markdown",
   "id": "c0869a7f",
   "metadata": {},
   "source": [
    "Before you turn this problem in, make sure everything runs as expected. First, **restart the kernel** (in the menubar, select Kernel$\\rightarrow$Restart) and then **run all cells** (in the menubar, select Cell$\\rightarrow$Run All).\n",
    "\n",
    "Make sure you fill in any place that says `YOUR CODE HERE` or \"YOUR ANSWER HERE\", as well as your name and collaborators below:"
   ]
  },
  {
   "cell_type": "code",
   "execution_count": null,
   "id": "660d6c8f",
   "metadata": {},
   "outputs": [],
   "source": [
    "NAME = \"\"\n",
    "COLLABORATORS = \"\""
   ]
  },
  {
   "cell_type": "markdown",
   "id": "3c7ddc41",
   "metadata": {},
   "source": [
    "---"
   ]
  },
  {
   "cell_type": "markdown",
   "id": "5d6d7dcc",
   "metadata": {},
   "source": [
    "# Dictionaries\n",
    "\n",
    "Dictionaries (selten Wörterbücher oder auch *assoziative Liste*) gehören ebenfalls zu den Python **Data Collections**. Der Unterschied zu der Liste ist, dass die Werte nicht indexbasiert gespeichert werden, sondern in sogenannten \"Schlüssel-Wert\" (key:value) Paaren. Dictionaries werden mit geschweiften Klammern ```{}``` definiert. Zuerst wird der Schlüssel angegeben, danach der Wert getrennt durch einen Doppelpunkt ```:```."
   ]
  },
  {
   "cell_type": "code",
   "execution_count": null,
   "id": "c549466f",
   "metadata": {},
   "outputs": [],
   "source": [
    "my_apple = {\n",
    "    \"color\": \"red\",\n",
    "    \"type\": \"braeburn\",\n",
    "    \"weight\": 100\n",
    "}"
   ]
  },
  {
   "cell_type": "markdown",
   "id": "837d238f",
   "metadata": {},
   "source": [
    "Als Werte können alle Python Datentypen verwendet werden, man kann also zu einem Schlüssel durchaus auch eine Liste oder wieder ein Dictionary als Wert definieren: "
   ]
  },
  {
   "cell_type": "code",
   "execution_count": null,
   "id": "e54fec2f",
   "metadata": {},
   "outputs": [],
   "source": [
    "my_apples = {\n",
    "    \"color\": \"red\",\n",
    "    \"type\": \"braeburn\",\n",
    "    \"weight\": [100, 125, 80, 120]\n",
    "}"
   ]
  },
  {
   "cell_type": "markdown",
   "id": "92342ce9",
   "metadata": {},
   "source": [
    "## Auf Elemente zugreifen\n",
    "\n",
    "Auf Elemente eines Dictionary kann mit Hilfe des Schlüssels in eckigen Klammern ```[]``` zugegriffen werden:"
   ]
  },
  {
   "cell_type": "code",
   "execution_count": null,
   "id": "c7cfbb50",
   "metadata": {},
   "outputs": [],
   "source": [
    "apple_color = my_apple[\"color\"]\n",
    "print(apple_color)"
   ]
  },
  {
   "cell_type": "markdown",
   "id": "aaadb554",
   "metadata": {},
   "source": [
    "Ein Zugriff auf einen nicht existierenden Schlüssel erzeugt eine Fehlermeldung mit `KeyError`"
   ]
  },
  {
   "cell_type": "code",
   "execution_count": null,
   "id": "206ba3eb",
   "metadata": {},
   "outputs": [],
   "source": [
    "my_apple[\"price\"]"
   ]
  },
  {
   "cell_type": "markdown",
   "id": "ba505204",
   "metadata": {},
   "source": [
    "## Elemente ändern und hinzufügen\n",
    "\n",
    "Werte in einem Dictionary können verändert werden:"
   ]
  },
  {
   "cell_type": "code",
   "execution_count": null,
   "id": "47caab3b",
   "metadata": {},
   "outputs": [],
   "source": [
    "print(my_apple[\"color\"])\n",
    "my_apple[\"color\"] = \"orange\"\n",
    "print(my_apple[\"color\"])"
   ]
  },
  {
   "cell_type": "markdown",
   "id": "53e1bf4e",
   "metadata": {},
   "source": [
    "Neue Schlüssel Wert Paare können hinzugefügt werden (in diesem Fall gibt es keinen \"KeyError\", weil dem neuen Key gleich noch einen Wert zugefügt wird):"
   ]
  },
  {
   "cell_type": "code",
   "execution_count": null,
   "id": "f1af5d9b",
   "metadata": {},
   "outputs": [],
   "source": [
    "my_apple[\"origin\"] = \"Switzerland\"\n",
    "print(my_apple)"
   ]
  },
  {
   "cell_type": "markdown",
   "id": "200ad23b",
   "metadata": {},
   "source": [
    "## Dictionaries iterieren\n",
    "\n",
    "Mit Hilfe einer For Schleife kann durch ein Dictionary iteriert werden:"
   ]
  },
  {
   "cell_type": "code",
   "execution_count": null,
   "id": "6350b679",
   "metadata": {},
   "outputs": [],
   "source": [
    "for x in my_apple:\n",
    "    print(x)"
   ]
  },
  {
   "cell_type": "markdown",
   "id": "6a8379f5",
   "metadata": {},
   "source": [
    "Im obigen Falle werden also für ```x``` die Schlüssel eingesetzt (und nicht etwa die Werte, wie man es sich auch vorstellen könnte)."
   ]
  },
  {
   "cell_type": "markdown",
   "id": "7e8197ce",
   "metadata": {},
   "source": [
    "### Aufgabe\n",
    "\n",
    "Erstelle eine For Schleife, die die Werte zu den einzelnen Schlüssel des Dictionary ```my_apple``` ausgibt."
   ]
  },
  {
   "cell_type": "code",
   "execution_count": null,
   "id": "59f4de4c",
   "metadata": {
    "deletable": false,
    "nbgrader": {
     "cell_type": "code",
     "checksum": "66fb8885d203e9dc01f07ca03dfe2678",
     "grade": true,
     "grade_id": "cell-4a6e0600174c6d5d",
     "locked": false,
     "points": 0,
     "schema_version": 3,
     "solution": true,
     "task": false
    }
   },
   "outputs": [],
   "source": [
    "# YOUR CODE HERE\n",
    "raise NotImplementedError()"
   ]
  },
  {
   "cell_type": "markdown",
   "id": "5d3ce3b7",
   "metadata": {},
   "source": [
    "Wenn man gleichzeitig Zugriff auf Schlüssel und Wert haben möchte, kann man dafür die Funktion ```items()``` verwenden:"
   ]
  },
  {
   "cell_type": "code",
   "execution_count": null,
   "id": "45c7ab7b",
   "metadata": {},
   "outputs": [],
   "source": [
    "for key, value in my_apple.items():\n",
    "    print(\"The\", key, \"is:\", value)"
   ]
  },
  {
   "cell_type": "markdown",
   "id": "189020bf",
   "metadata": {},
   "source": [
    "## Dictionaries kopieren\n",
    "\n",
    "Dictionaries können nicht einfach so kopiert werden mit ```dict_2 = dict_1``` weil in diesem Fall nur eine Referenz erzeug wird und nicht ein eigentliches zweites Dictionary, wenn also etwas an ```dict_1``` geändert wird, ist diese Änderung auch bei ```dict_2``` sichtbar, weil dieses ja nur auf das ```dict_1``` \"zeigt\":"
   ]
  },
  {
   "cell_type": "code",
   "execution_count": null,
   "id": "d36ac747",
   "metadata": {},
   "outputs": [],
   "source": [
    "my_other_apple = my_apple\n",
    "\n",
    "my_apple[\"origin\"] = \"New Zealand\"\n",
    "\n",
    "print(my_other_apple[\"origin\"])"
   ]
  },
  {
   "cell_type": "markdown",
   "id": "a3761bfb",
   "metadata": {},
   "source": [
    "Dies ist ein sehr wichtiges Konzept beim Programmieren. Man muss immer wissen, ob ein Objekt tatsächlich kopiert wurde und damit \"eigentständig\" wird oder ob es nur eine Referenz resp. \"Zeiger\" auf ein anderes Objekt ist und damit nicht eigentständig existiert. Wenn man ein Dictionary tatsächlich kopieren möchte, kann man die ```copy()``` Funktion des Dictionary brauchen:"
   ]
  },
  {
   "cell_type": "code",
   "execution_count": null,
   "id": "888d580f",
   "metadata": {},
   "outputs": [],
   "source": [
    "my_other_apple = my_apple.copy()\n",
    "\n",
    "my_apple[\"origin\"] = \"Südtirol\"\n",
    "\n",
    "print(my_other_apple[\"origin\"])\n",
    "print(my_apple[\"origin\"])"
   ]
  },
  {
   "cell_type": "markdown",
   "id": "2c2c7a50",
   "metadata": {},
   "source": [
    "\n",
    "### Für Fortgeschrittene\n",
    "\n",
    "Wenn man ein Dictionary aus zwei separaten Listen (eine für die Schlüssel, die andere für die Werte) erstellen möchte, ist die ```zip()``` Funktion hilfreich, welche iterierbare Objekte (wie bspw. Listen) zu einem zip Objekt verbindet. Dieses zip Objekt kann dann mit Hilfe der Funktion ```dict()``` in ein Dictionary umgewandelt werden:"
   ]
  },
  {
   "cell_type": "code",
   "execution_count": null,
   "id": "7ca29f25",
   "metadata": {},
   "outputs": [],
   "source": [
    "my_keys = [\"Name\", \"Vorname\", \"Adresse\", \"PLZ\", \"Ort\"]\n",
    "my_values = [\"Rupert\", \"Sabrina\", \"Wägli 12\", \"9873\", \"Obergoldiwilbächligen\"]\n",
    "\n",
    "my_dictionary = dict(zip(my_keys, my_values))\n",
    "print(my_dictionary)"
   ]
  },
  {
   "cell_type": "markdown",
   "id": "a9a0034d",
   "metadata": {},
   "source": [
    "## Dictionary Comprehensions\n",
    "\n",
    "Ähnlich der List Comprehensions existieren Dictionary Comprehensions, um aus bestehenden Dictionaries neue zu erzeugen, dabei aber nur bestimmte Schlüssel Wert Paare zu übernehmen (solche, die eine Bedingung erfüllen) und allenfalls diese Schlüssel Wert Paare auch noch zu verändern. Die allgemeine Form der Dictionary Comprehension lautet: `new_dictionary = {expression(k):expression(v) for (k, v) in dictionary if condition == True}`. Das wirkt auf den ersten Blick verwirrend, wird aber beim praktischen Einsatz etwas klarer:"
   ]
  },
  {
   "cell_type": "code",
   "execution_count": null,
   "id": "6ae91b84",
   "metadata": {},
   "outputs": [],
   "source": [
    "my_apple_new = {k:v.upper() for (k, v) in my_apple.items() if type(v) == str}\n",
    "print(my_apple_new)"
   ]
  },
  {
   "cell_type": "markdown",
   "id": "370dfa05",
   "metadata": {},
   "source": [
    "Die Erklärung zu obiger Dictionary Comprehension: Wir nehmen das Dictionary `my_apple`, welches wir in obenstehenden Zellen definiert haben, dieses durchlaufen wir ähnlich einer For Schleife und wollen dabei Zugriff auf Schlüssel und Werte haben, deshalb brauchen wir die `items()` Funktion angewandt auf unser Dictionary `my_apple`. Wir wollen, dass während der Iteration Schlüssel und Wert unter der Variable `k` und `v` verfügbar sind, was durch die Notation `(k, v)` festegelegt wird. Jetzt wollen wir aber nur diejenigen Werte im neuen Dictionary drin haben, welche vom Typ `str`, also ein Wort sind. Dies erreichen wir durch die if Bedingung ganz hinten. Als letztes wollen wir jetzt aber die Werte in Grossbuchstaben haben, das erreichen wir mit `v.upper()`."
   ]
  }
 ],
 "metadata": {
  "kernelspec": {
   "display_name": "Python 3",
   "language": "python",
   "name": "python3"
  },
  "language_info": {
   "codemirror_mode": {
    "name": "ipython",
    "version": 3
   },
   "file_extension": ".py",
   "mimetype": "text/x-python",
   "name": "python",
   "nbconvert_exporter": "python",
   "pygments_lexer": "ipython3",
   "version": "3.9.7"
  }
 },
 "nbformat": 4,
 "nbformat_minor": 5
}
